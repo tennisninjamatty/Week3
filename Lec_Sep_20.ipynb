{
 "cells": [
  {
   "cell_type": "markdown",
   "metadata": {},
   "source": [
    "## REVIEW"
   ]
  },
  {
   "cell_type": "markdown",
   "metadata": {},
   "source": [
    "* How to iterate over a sequence?\n",
    "* What are some examples of sequence that we have seen so far?\n",
    "* What are the two ways of using `for` loops?\n",
    "* How to break a string into words? Which method will I use?\n",
    "* How to remove trailling and leading whitespace from a string?"
   ]
  },
  {
   "cell_type": "code",
   "execution_count": 4,
   "metadata": {},
   "outputs": [
    {
     "data": {
      "text/plain": [
       "['email', ' vijayanta.jain@maine.edu']"
      ]
     },
     "execution_count": 4,
     "metadata": {},
     "output_type": "execute_result"
    }
   ],
   "source": [
    "\"email. vijayanta.jain@maine.edu\".split(\".\", 1)"
   ]
  },
  {
   "cell_type": "code",
   "execution_count": 11,
   "metadata": {},
   "outputs": [
    {
     "data": {
      "text/plain": [
       "' is her'"
      ]
     },
     "execution_count": 11,
     "metadata": {},
     "output_type": "execute_result"
    }
   ],
   "source": [
    "\"something is here\".strip(\"thingsome\")"
   ]
  },
  {
   "cell_type": "code",
   "execution_count": 13,
   "metadata": {},
   "outputs": [
    {
     "data": {
      "text/plain": [
       "'somethingishere'"
      ]
     },
     "execution_count": 13,
     "metadata": {},
     "output_type": "execute_result"
    }
   ],
   "source": [
    "\"something+is+here\".replace(\"+\", \"\")"
   ]
  },
  {
   "cell_type": "markdown",
   "metadata": {},
   "source": [
    "## List Operations"
   ]
  },
  {
   "cell_type": "markdown",
   "metadata": {},
   "source": [
    "List comes with a few \n",
    "* add items, \n",
    "* find out an item's position\n",
    "* reverse the list\n",
    "* insert at specific positions\n",
    "* Find the number of instances of something\n",
    "* and much more... (after the list variable type `.` and you should see all the methods that list provides)"
   ]
  },
  {
   "cell_type": "code",
   "execution_count": 17,
   "metadata": {},
   "outputs": [
    {
     "name": "stdout",
     "output_type": "stream",
     "text": [
      "[1, 2, 3, 4]\n"
     ]
    }
   ],
   "source": [
    "some_list = [1, 2, 3]\n",
    "some_list.append(4)\n",
    "print(some_list)"
   ]
  },
  {
   "cell_type": "code",
   "execution_count": 19,
   "metadata": {},
   "outputs": [
    {
     "ename": "ValueError",
     "evalue": "'tomatoes' is not in list",
     "output_type": "error",
     "traceback": [
      "\u001b[0;31m---------------------------------------------------------------------------\u001b[0m",
      "\u001b[0;31mValueError\u001b[0m                                Traceback (most recent call last)",
      "Cell \u001b[0;32mIn[19], line 4\u001b[0m\n\u001b[1;32m      2\u001b[0m list_of_food: \u001b[38;5;28mlist\u001b[39m[\u001b[38;5;28mstr\u001b[39m] \u001b[38;5;241m=\u001b[39m [\u001b[38;5;124m\"\u001b[39m\u001b[38;5;124mapple\u001b[39m\u001b[38;5;124m\"\u001b[39m, \u001b[38;5;124m\"\u001b[39m\u001b[38;5;124mcherry\u001b[39m\u001b[38;5;124m\"\u001b[39m, \u001b[38;5;124m\"\u001b[39m\u001b[38;5;124mbanana\u001b[39m\u001b[38;5;124m\"\u001b[39m, \u001b[38;5;124m\"\u001b[39m\u001b[38;5;124mkiwi\u001b[39m\u001b[38;5;124m\"\u001b[39m]\n\u001b[1;32m      3\u001b[0m list_of_food\u001b[38;5;241m.\u001b[39mindex(\u001b[38;5;124m\"\u001b[39m\u001b[38;5;124mbanana\u001b[39m\u001b[38;5;124m\"\u001b[39m)\n\u001b[0;32m----> 4\u001b[0m \u001b[43mlist_of_food\u001b[49m\u001b[38;5;241;43m.\u001b[39;49m\u001b[43mindex\u001b[49m\u001b[43m(\u001b[49m\u001b[38;5;124;43m\"\u001b[39;49m\u001b[38;5;124;43mtomatoes\u001b[39;49m\u001b[38;5;124;43m\"\u001b[39;49m\u001b[43m)\u001b[49m\n",
      "\u001b[0;31mValueError\u001b[0m: 'tomatoes' is not in list"
     ]
    }
   ],
   "source": [
    "from typing import List\n",
    "list_of_food: list[str] = [\"apple\", \"cherry\", \"banana\", \"kiwi\"]\n",
    "list_of_food.index(\"banana\")\n",
    "list_of_food.index(\"tomatoes\")"
   ]
  },
  {
   "cell_type": "code",
   "execution_count": 23,
   "metadata": {},
   "outputs": [],
   "source": [
    "list_of_food = [\"apple\", \"cherry\", \"banana\", \"kiwi\"]"
   ]
  },
  {
   "cell_type": "code",
   "execution_count": 24,
   "metadata": {},
   "outputs": [
    {
     "name": "stdout",
     "output_type": "stream",
     "text": [
      "['kiwi', 'banana', 'cherry', 'apple']\n",
      "['tomatoes', 'kiwi', 'banana', 'cherry', 'apple']\n"
     ]
    }
   ],
   "source": [
    "list_of_food.reverse()\n",
    "print(list_of_food)\n",
    "\n",
    "list_of_food.insert(0, \"tomatoes\")\n",
    "print(list_of_food)"
   ]
  },
  {
   "cell_type": "code",
   "execution_count": 25,
   "metadata": {},
   "outputs": [
    {
     "name": "stdout",
     "output_type": "stream",
     "text": [
      "['apple', 'cherry', 'banana', 'kiwi', 'tomatoes']\n",
      "['tomatoes', 'apple', 'cherry', 'banana', 'kiwi', 'tomatoes']\n"
     ]
    }
   ],
   "source": [
    "list_of_food.reverse()\n",
    "print(list_of_food)\n",
    "\n",
    "list_of_food.insert(0, \"tomatoes\")\n",
    "print(list_of_food)"
   ]
  },
  {
   "cell_type": "code",
   "execution_count": 26,
   "metadata": {},
   "outputs": [
    {
     "name": "stdout",
     "output_type": "stream",
     "text": [
      "['apple', 'cherry', 'banana', 'kiwi', 'pineapple']\n"
     ]
    }
   ],
   "source": [
    "my_list: list[str] = [\"apple\", \"cherry\", \"banana\", \"kiwi\"]\n",
    "meghan_list: list[str] = [\"pineapple\"]\n",
    "\n",
    "my_list.extend(meghan_list)\n",
    "print(my_list)"
   ]
  },
  {
   "cell_type": "code",
   "execution_count": 28,
   "metadata": {},
   "outputs": [
    {
     "name": "stdout",
     "output_type": "stream",
     "text": [
      "['apple', 'cherry', 'banana', 'kiwi', ['pineapple']]\n"
     ]
    }
   ],
   "source": [
    "my_list: list[str] = [\"apple\", \"cherry\", \"banana\", \"kiwi\"]\n",
    "meghan_list: list[str] = [\"pineapple\"]\n",
    "\n",
    "my_list.append(meghan_list)\n",
    "\n",
    "print(my_list)"
   ]
  },
  {
   "cell_type": "code",
   "execution_count": 1,
   "metadata": {},
   "outputs": [],
   "source": [
    "some_list: list[int] = [1, 2, 3, 4]\n",
    "another_list: list[int] = [5, 6, 7]\n",
    "for each_number in another_list:\n",
    "    some_list.append(each_number)"
   ]
  },
  {
   "cell_type": "code",
   "execution_count": 4,
   "metadata": {},
   "outputs": [
    {
     "name": "stdout",
     "output_type": "stream",
     "text": [
      "[1, 2, 3, 4, 5, 6, 7]\n"
     ]
    }
   ],
   "source": [
    "some_list: list[int] = [1, 2, 3, 4]\n",
    "another_list: list[int] = [5, 6, 7]\n",
    "for i in range(0, len(another_list)):\n",
    "    some_list.append(another_list[i])\n",
    "print(some_list)"
   ]
  },
  {
   "cell_type": "code",
   "execution_count": 5,
   "metadata": {},
   "outputs": [
    {
     "name": "stdout",
     "output_type": "stream",
     "text": [
      "0. 5\n",
      "1. 6\n",
      "2. 7\n"
     ]
    }
   ],
   "source": [
    "for i, each_item in enumerate(another_list):\n",
    "    print(f\"{i}. {each_item}\")\n",
    "    "
   ]
  },
  {
   "cell_type": "code",
   "execution_count": 6,
   "metadata": {},
   "outputs": [
    {
     "name": "stdout",
     "output_type": "stream",
     "text": [
      "5\n",
      "6\n",
      "7\n"
     ]
    }
   ],
   "source": [
    "for _, each_item in enumerate(another_list):\n",
    "    print(f\"{each_item}\")"
   ]
  },
  {
   "cell_type": "code",
   "execution_count": 2,
   "metadata": {},
   "outputs": [
    {
     "name": "stdout",
     "output_type": "stream",
     "text": [
      "10\n",
      "12\n",
      "15\n",
      "7\n",
      "9\n",
      "15\n",
      "18\n",
      "20\n",
      "23\n"
     ]
    }
   ],
   "source": [
    "some_list: list[int] = [10, 12, 15, 7, 9, 15, 18, 20, 23]\n",
    "\n",
    "index:int = 0\n",
    "while(index <= len(some_list) - 1):\n",
    "    print(some_list[index])\n",
    "    index += 1\n"
   ]
  },
  {
   "cell_type": "code",
   "execution_count": 4,
   "metadata": {},
   "outputs": [],
   "source": [
    "user_input:str = \"\"\n",
    "while(not user_input.isdecimal()):\n",
    "    user_input = input(\"Enter a number\")"
   ]
  },
  {
   "cell_type": "code",
   "execution_count": 5,
   "metadata": {},
   "outputs": [
    {
     "name": "stdout",
     "output_type": "stream",
     "text": [
      "15\n",
      "7\n",
      "9\n",
      "15\n",
      "23\n"
     ]
    }
   ],
   "source": [
    "#print only odd values\n",
    "some_list: list[int] = [10, 12, 15, 7, 9, 15, 18, 20, 23]\n",
    "\n",
    "index:int = 0\n",
    "while(index < len(some_list)):\n",
    "    if some_list[index] % 2 != 0:\n",
    "        print(some_list[index])\n",
    "    index += 1"
   ]
  },
  {
   "cell_type": "code",
   "execution_count": 14,
   "metadata": {},
   "outputs": [
    {
     "name": "stdout",
     "output_type": "stream",
     "text": [
      "{1, 2, 3}\n"
     ]
    }
   ],
   "source": [
    "new_set = (1, 2, 3)\n",
    "another_new_set = set([1, 2, 2, 3])\n",
    "print(another_new_set)"
   ]
  },
  {
   "cell_type": "code",
   "execution_count": 15,
   "metadata": {},
   "outputs": [
    {
     "data": {
      "text/plain": [
       "set"
      ]
     },
     "execution_count": 15,
     "metadata": {},
     "output_type": "execute_result"
    }
   ],
   "source": [
    "new_set = {1, 2, 3}\n",
    "type(new_set)"
   ]
  }
 ],
 "metadata": {
  "kernelspec": {
   "display_name": "Python 3",
   "language": "python",
   "name": "python3"
  },
  "language_info": {
   "codemirror_mode": {
    "name": "ipython",
    "version": 3
   },
   "file_extension": ".py",
   "mimetype": "text/x-python",
   "name": "python",
   "nbconvert_exporter": "python",
   "pygments_lexer": "ipython3",
   "version": "3.9.6"
  }
 },
 "nbformat": 4,
 "nbformat_minor": 2
}
